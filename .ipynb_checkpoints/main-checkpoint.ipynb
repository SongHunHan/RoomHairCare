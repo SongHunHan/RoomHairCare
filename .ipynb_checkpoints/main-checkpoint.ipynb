{
 "cells": [
  {
   "cell_type": "code",
   "execution_count": 53,
   "id": "65f0b680-184b-4b7b-b154-b88d68dd8248",
   "metadata": {},
   "outputs": [],
   "source": [
    "from glob import glob\n",
    "import os"
   ]
  },
  {
   "cell_type": "code",
   "execution_count": 54,
   "id": "139dd7e3-fb4c-481d-b45c-e922587652b0",
   "metadata": {},
   "outputs": [
    {
     "data": {
      "text/plain": [
       "'/workspace/Docker/yolo_skin/yolov5'"
      ]
     },
     "execution_count": 54,
     "metadata": {},
     "output_type": "execute_result"
    }
   ],
   "source": [
    "pwd"
   ]
  },
  {
   "cell_type": "code",
   "execution_count": 63,
   "id": "345e3f2b-0d4f-45b1-b3ba-0fe1b0ff6ff7",
   "metadata": {},
   "outputs": [
    {
     "data": {
      "text/plain": [
       "95"
      ]
     },
     "execution_count": 63,
     "metadata": {},
     "output_type": "execute_result"
    }
   ],
   "source": [
    "dataset = sorted(glob('/workspace/ssddata/Hair/kaggleData/dataset/images/*.jpg'))\n",
    "len(dataset)"
   ]
  },
  {
   "cell_type": "code",
   "execution_count": 64,
   "id": "5b803b3f-4ddb-4b6b-87e8-b73a47bfe67d",
   "metadata": {},
   "outputs": [
    {
     "data": {
      "text/plain": [
       "'/workspace/Docker/yolo_skin/yolov5'"
      ]
     },
     "execution_count": 64,
     "metadata": {},
     "output_type": "execute_result"
    }
   ],
   "source": [
    "pwd"
   ]
  },
  {
   "cell_type": "code",
   "execution_count": 3,
   "id": "1139abf3-db67-423c-bcba-1924f7107ca6",
   "metadata": {},
   "outputs": [
    {
     "name": "stdout",
     "output_type": "stream",
     "text": [
      "Cloning into 'yolov5'...\n",
      "remote: Enumerating objects: 10035, done.\u001b[K\n",
      "remote: Total 10035 (delta 0), reused 0 (delta 0), pack-reused 10035\u001b[K\n",
      "Receiving objects: 100% (10035/10035), 10.39 MiB | 10.92 MiB/s, done.\n",
      "Resolving deltas: 100% (6956/6956), done.\n"
     ]
    }
   ],
   "source": [
    "!git clone https://github.com/ultralytics/yolov5.git"
   ]
  },
  {
   "cell_type": "code",
   "execution_count": 46,
   "id": "095a9dba-2b4e-4486-b799-cc3d19664037",
   "metadata": {},
   "outputs": [
    {
     "name": "stdout",
     "output_type": "stream",
     "text": [
      "[Errno 2] No such file or directory: 'yolov5'\n",
      "/workspace/Docker/yolo_skin/yolov5\n"
     ]
    }
   ],
   "source": [
    "cd yolov5"
   ]
  },
  {
   "cell_type": "code",
   "execution_count": 72,
   "id": "6c1107f0-e6a4-43f7-9b3b-52cf5ea0e4bf",
   "metadata": {},
   "outputs": [
    {
     "name": "stdout",
     "output_type": "stream",
     "text": [
      "names:\n",
      "- loss\n",
      "nc: 1\n",
      "train: /workspace/ssddata/Hair/kaggleData/dataset/train.txt\n",
      "val: /workspace/ssddata/Hair/kaggleData/dataset/val.txt\n"
     ]
    }
   ],
   "source": [
    "%cat /workspace/ssddata/Hair/kaggleData/dataset/data.yaml"
   ]
  },
  {
   "cell_type": "code",
   "execution_count": 73,
   "id": "d797b5b6-60bb-4ea4-8502-908edeaeebc6",
   "metadata": {},
   "outputs": [],
   "source": [
    "from sklearn.model_selection import train_test_split\n",
    "\n",
    "train_data , val_data = train_test_split(dataset,test_size=0.25,random_state=2000)"
   ]
  },
  {
   "cell_type": "code",
   "execution_count": 74,
   "id": "1eae60ad-f15d-4fbd-8264-f7e6e07643a1",
   "metadata": {},
   "outputs": [
    {
     "data": {
      "text/plain": [
       "(71, 24)"
      ]
     },
     "execution_count": 74,
     "metadata": {},
     "output_type": "execute_result"
    }
   ],
   "source": [
    "len(train_data) , len(val_data)"
   ]
  },
  {
   "cell_type": "code",
   "execution_count": 75,
   "id": "c9fdbdbd-e3cc-4871-a217-2fdd87dfab75",
   "metadata": {},
   "outputs": [],
   "source": [
    "with open('/workspace/ssddata/Hair/kaggleData/dataset/train.txt','w') as f:\n",
    "    f.write('\\n'.join(train_data)+'\\n')\n",
    "    \n",
    "with open('/workspace/ssddata/Hair/kaggleData/dataset/val.txt','w') as f:\n",
    "    f.write('\\n'.join(val_data)+'\\n')\n"
   ]
  },
  {
   "cell_type": "code",
   "execution_count": 76,
   "id": "4b5fa5a3-ca27-4691-9f00-2f01c21c5042",
   "metadata": {},
   "outputs": [
    {
     "name": "stdout",
     "output_type": "stream",
     "text": [
      "{'names': ['loss'], 'nc': 1, 'train': '/workspace/ssddata/Hair/kaggleData/dataset/train.txt', 'val': '/workspace/ssddata/Hair/kaggleData/dataset/val.txt'}\n",
      "{'names': ['loss'], 'nc': 1, 'train': '/workspace/ssddata/Hair/kaggleData/dataset/train.txt', 'val': '/workspace/ssddata/Hair/kaggleData/dataset/val.txt'}\n"
     ]
    },
    {
     "name": "stderr",
     "output_type": "stream",
     "text": [
      "<ipython-input-76-c77a623370c6>:4: YAMLLoadWarning: calling yaml.load() without Loader=... is deprecated, as the default Loader is unsafe. Please read https://msg.pyyaml.org/load for full details.\n",
      "  data = yaml.load(f)\n"
     ]
    }
   ],
   "source": [
    "import yaml\n",
    "\n",
    "with open('/workspace/ssddata/Hair/kaggleData/dataset/data.yaml','r') as f:\n",
    "    data = yaml.load(f)\n",
    "    \n",
    "print(data)\n",
    "\n",
    "data['train'] = '/workspace/ssddata/Hair/kaggleData/dataset/train.txt'\n",
    "data['val'] = '/workspace/ssddata/Hair/kaggleData/dataset/val.txt'\n",
    "\n",
    "with open('/workspace/ssddata/Hair/kaggleData/dataset/data.yaml','w') as f:\n",
    "    yaml.dump(data,f)\n",
    "\n",
    "print(data)"
   ]
  },
  {
   "cell_type": "code",
   "execution_count": 78,
   "id": "2df3edc9-c4b7-4592-97f8-317f681bcb60",
   "metadata": {},
   "outputs": [
    {
     "name": "stdout",
     "output_type": "stream",
     "text": [
      "\u001b[34m\u001b[1mtrain: \u001b[0mweights=yolov5s.pt, cfg=, data=/workspace/ssddata/Hair/kaggleData/dataset/data.yaml, hyp=data/hyps/hyp.scratch.yaml, epochs=50, batch_size=16, imgsz=640, rect=False, resume=False, nosave=False, noval=False, noautoanchor=False, evolve=None, bucket=, cache=None, image_weights=False, device=, multi_scale=False, single_cls=False, adam=False, sync_bn=False, workers=8, project=runs/train, name=hairTets, exist_ok=False, quad=False, linear_lr=False, label_smoothing=0.0, patience=100, freeze=0, save_period=-1, local_rank=-1, entity=None, upload_dataset=False, bbox_interval=-1, artifact_alias=latest\n",
      "\u001b[34m\u001b[1mgithub: \u001b[0mskipping check (Docker image), for updates see https://github.com/ultralytics/yolov5\n",
      "YOLOv5 🚀 v6.0-109-g7c6bae0 torch 1.7.1 CUDA:0 (NVIDIA GeForce RTX 3090, 24265MiB)\n",
      "\n",
      "\u001b[34m\u001b[1mhyperparameters: \u001b[0mlr0=0.01, lrf=0.1, momentum=0.937, weight_decay=0.0005, warmup_epochs=3.0, warmup_momentum=0.8, warmup_bias_lr=0.1, box=0.05, cls=0.5, cls_pw=1.0, obj=1.0, obj_pw=1.0, iou_t=0.2, anchor_t=4.0, fl_gamma=0.0, hsv_h=0.015, hsv_s=0.7, hsv_v=0.4, degrees=0.0, translate=0.1, scale=0.5, shear=0.0, perspective=0.0, flipud=0.0, fliplr=0.5, mosaic=1.0, mixup=0.0, copy_paste=0.0\n",
      "\u001b[34m\u001b[1mWeights & Biases: \u001b[0mrun 'pip install wandb' to automatically track and visualize YOLOv5 🚀 runs (RECOMMENDED)\n",
      "\u001b[34m\u001b[1mTensorBoard: \u001b[0mStart with 'tensorboard --logdir runs/train', view at http://localhost:6006/\n",
      "Downloading https://github.com/ultralytics/yolov5/releases/download/v6.0/yolov5s.pt to yolov5s.pt...\n",
      "100%|██████████████████████████████████████| 14.0M/14.0M [00:01<00:00, 10.1MB/s]\n",
      "\n",
      "Overriding model.yaml nc=80 with nc=1\n",
      "\n",
      "                 from  n    params  module                                  arguments                     \n",
      "  0                -1  1      3520  models.common.Conv                      [3, 32, 6, 2, 2]              \n",
      "  1                -1  1     18560  models.common.Conv                      [32, 64, 3, 2]                \n",
      "  2                -1  1     18816  models.common.C3                        [64, 64, 1]                   \n",
      "  3                -1  1     73984  models.common.Conv                      [64, 128, 3, 2]               \n",
      "  4                -1  2    115712  models.common.C3                        [128, 128, 2]                 \n",
      "  5                -1  1    295424  models.common.Conv                      [128, 256, 3, 2]              \n",
      "  6                -1  3    625152  models.common.C3                        [256, 256, 3]                 \n",
      "  7                -1  1   1180672  models.common.Conv                      [256, 512, 3, 2]              \n",
      "  8                -1  1   1182720  models.common.C3                        [512, 512, 1]                 \n",
      "  9                -1  1    656896  models.common.SPPF                      [512, 512, 5]                 \n",
      " 10                -1  1    131584  models.common.Conv                      [512, 256, 1, 1]              \n",
      " 11                -1  1         0  torch.nn.modules.upsampling.Upsample    [None, 2, 'nearest']          \n",
      " 12           [-1, 6]  1         0  models.common.Concat                    [1]                           \n",
      " 13                -1  1    361984  models.common.C3                        [512, 256, 1, False]          \n",
      " 14                -1  1     33024  models.common.Conv                      [256, 128, 1, 1]              \n",
      " 15                -1  1         0  torch.nn.modules.upsampling.Upsample    [None, 2, 'nearest']          \n",
      " 16           [-1, 4]  1         0  models.common.Concat                    [1]                           \n",
      " 17                -1  1     90880  models.common.C3                        [256, 128, 1, False]          \n",
      " 18                -1  1    147712  models.common.Conv                      [128, 128, 3, 2]              \n",
      " 19          [-1, 14]  1         0  models.common.Concat                    [1]                           \n",
      " 20                -1  1    296448  models.common.C3                        [256, 256, 1, False]          \n",
      " 21                -1  1    590336  models.common.Conv                      [256, 256, 3, 2]              \n",
      " 22          [-1, 10]  1         0  models.common.Concat                    [1]                           \n",
      " 23                -1  1   1182720  models.common.C3                        [512, 512, 1, False]          \n",
      " 24      [17, 20, 23]  1     16182  models.yolo.Detect                      [1, [[10, 13, 16, 30, 33, 23], [30, 61, 62, 45, 59, 119], [116, 90, 156, 198, 373, 326]], [128, 256, 512]]\n",
      "Model Summary: 270 layers, 7022326 parameters, 7022326 gradients, 15.8 GFLOPs\n",
      "\n",
      "Transferred 343/349 items from yolov5s.pt\n",
      "Scaled weight_decay = 0.0005\n",
      "\u001b[34m\u001b[1moptimizer:\u001b[0m SGD with parameter groups 57 weight, 60 weight (no decay), 60 bias\n",
      "\u001b[34m\u001b[1mtrain: \u001b[0mScanning '/workspace/ssddata/Hair/kaggleData/dataset/train.cache' images \u001b[0mTraceback (most recent call last):\n",
      "  File \"train.py\", line 626, in <module>\n",
      "    main(opt)\n",
      "  File \"train.py\", line 523, in main\n",
      "    train(opt.hyp, opt, device, callbacks)\n",
      "  File \"train.py\", line 213, in train\n",
      "    train_loader, dataset = create_dataloader(train_path, imgsz, batch_size // WORLD_SIZE, gs, single_cls,\n",
      "  File \"/workspace/Docker/yolo_skin/yolov5/utils/datasets.py\", line 101, in create_dataloader\n",
      "    dataset = LoadImagesAndLabels(path, imgsz, batch_size,\n",
      "  File \"/workspace/Docker/yolo_skin/yolov5/utils/datasets.py\", line 432, in __init__\n",
      "    assert nf > 0 or not augment, f'{prefix}No labels in {cache_path}. Can not train without labels. See {HELP_URL}'\n",
      "AssertionError: \u001b[34m\u001b[1mtrain: \u001b[0mNo labels in /workspace/ssddata/Hair/kaggleData/dataset/train.cache. Can not train without labels. See https://github.com/ultralytics/yolov5/wiki/Train-Custom-Data\n",
      "\u001b[34m\u001b[1mtrain: \u001b[0mScanning '/workspace/ssddata/Hair/kaggleData/dataset/train.cache' images \u001b[0m\n"
     ]
    }
   ],
   "source": [
    "!python train.py --epochs 50 --data '/workspace/ssddata/Hair/kaggleData/dataset/data.yaml'  --name hairTets"
   ]
  },
  {
   "cell_type": "code",
   "execution_count": null,
   "id": "5e3948c1-697d-4c03-af6f-6274aa2064fd",
   "metadata": {},
   "outputs": [],
   "source": []
  }
 ],
 "metadata": {
  "kernelspec": {
   "display_name": "Python 3",
   "language": "python",
   "name": "python3"
  },
  "language_info": {
   "codemirror_mode": {
    "name": "ipython",
    "version": 3
   },
   "file_extension": ".py",
   "mimetype": "text/x-python",
   "name": "python",
   "nbconvert_exporter": "python",
   "pygments_lexer": "ipython3",
   "version": "3.8.5"
  }
 },
 "nbformat": 4,
 "nbformat_minor": 5
}
